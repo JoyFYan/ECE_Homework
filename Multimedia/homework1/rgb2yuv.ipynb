{
 "cells": [
  {
   "cell_type": "markdown",
   "metadata": {},
   "source": [
    "# 数字媒体技术基础\n",
    "\n",
    "## 第一讲 视频信号\n",
    "\n",
    "## 作业1\n",
    "---\n",
    "\n",
    "将摄像头采集到的数据存成YUV文件\n",
    "  - 帧率：15fps\n",
    "  - 尺寸：320x240\n",
    "  - 色度格式：4：2：0\n",
    "\n"
   ]
  },
  {
   "cell_type": "markdown",
   "metadata": {},
   "source": [
    "### 导入有关库\n",
    "\n",
    "- 导入视频读取处理库 `cv2`\n",
    "\n",
    "- 导入系统库 `os`\n",
    "\n",
    "- 导入数学库 `numpy`\n",
    "\n",
    "- 导入二进制读写库 `struct`"
   ]
  },
  {
   "cell_type": "code",
   "execution_count": 1,
   "metadata": {},
   "outputs": [],
   "source": [
    "import cv2\n",
    "import os\n",
    "import numpy as np\n",
    "from struct import *"
   ]
  },
  {
   "cell_type": "markdown",
   "metadata": {},
   "source": [
    "### 视频文件读取\n",
    "\n",
    "读取视频文件，获取相应参数"
   ]
  },
  {
   "cell_type": "code",
   "execution_count": 2,
   "metadata": {
    "scrolled": true
   },
   "outputs": [
    {
     "name": "stdout",
     "output_type": "stream",
     "text": [
      "fps: 30.1884793878 size: (1280, 720)\n"
     ]
    }
   ],
   "source": [
    "V_PATH = 'video.mp4'\n",
    "vcap =  cv2.VideoCapture(V_PATH)\n",
    "fps = vcap.get(cv2.CAP_PROP_FPS)\n",
    "size = (int(vcap.get(cv2.CAP_PROP_FRAME_WIDTH)), \n",
    "        int(vcap.get(cv2.CAP_PROP_FRAME_HEIGHT)))\n",
    "print 'fps:',fps,'size:',size"
   ]
  },
  {
   "cell_type": "markdown",
   "metadata": {},
   "source": [
    "### RGB2YUV\n",
    "\n",
    "RGB到YUV转换，并输出到文件。"
   ]
  },
  {
   "cell_type": "code",
   "execution_count": 3,
   "metadata": {
    "scrolled": true
   },
   "outputs": [],
   "source": [
    "f = open('out_put1.yuv','wb')# 打开输出文件\n",
    "WIDTH = 320\n",
    "HEIGHT = 240\n",
    "FPS_OUT = 15\n",
    "# 变化矩阵\n",
    "YUV_M = np.array([(0.299,0.587,0.114),(-0.169,-0.332,0.5),(0.5,-0.419,-0.0813)])\n",
    "YUV_B = np.array([0,128,128])\n",
    "FRAMES = 100 # 设置转换总帧数（未压缩文件太大）\n",
    "fps_count = fps // FPS_OUT\n",
    "f_count = 0\n",
    "for f_num in xrange(FRAMES):\n",
    "    success, frame = vcap.read()\n",
    "    if f_count >= fps_count:\n",
    "        f_count = 0\n",
    "        continue\n",
    "    else:\n",
    "        f_count += 1\n",
    "    if success != True:\n",
    "        break\n",
    "    resized = cv2.resize(frame,(WIDTH,HEIGHT))\n",
    "    frame_size = int(HEIGHT * WIDTH * 1.5)\n",
    "    out_put = np.zeros((frame_size),dtype = np.uint8)\n",
    "    count = 0\n",
    "    for i in xrange(HEIGHT):\n",
    "        for j in xrange(WIDTH):\n",
    "            ind = i * WIDTH + j\n",
    "            temp = resized[i,j,:]\n",
    "            temp[0] ,temp[2]= resized[i,j,:][2], resized[i,j,:][1]\n",
    "            YUV = (np.dot(YUV_M, temp) + YUV_B)\n",
    "            out_put[ind] = int(YUV[0])\n",
    "            if (i % 2 == 0 and ind % 2 == 0):\n",
    "                out_put[WIDTH * HEIGHT + count] = int(YUV[1])\n",
    "                out_put[WIDTH * HEIGHT + WIDTH * HEIGHT/4 + count] = int(YUV[2])\n",
    "                count += 1\n",
    "    for b in out_put:\n",
    "        f.write(pack(\"B\", b))\n",
    "f.close()\n",
    "   "
   ]
  }
 ],
 "metadata": {
  "kernelspec": {
   "display_name": "Python 2",
   "language": "python",
   "name": "python2"
  },
  "language_info": {
   "codemirror_mode": {
    "name": "ipython",
    "version": 2
   },
   "file_extension": ".py",
   "mimetype": "text/x-python",
   "name": "python",
   "nbconvert_exporter": "python",
   "pygments_lexer": "ipython2",
   "version": "2.7.13"
  }
 },
 "nbformat": 4,
 "nbformat_minor": 2
}
